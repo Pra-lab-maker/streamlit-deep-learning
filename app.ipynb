{
  "nbformat": 4,
  "nbformat_minor": 0,
  "metadata": {
    "colab": {
      "name": "app.ipynb",
      "provenance": [],
      "mount_file_id": "1kPqFNvWKAdC14v8OLv5TeYz4168dTelc",
      "authorship_tag": "ABX9TyPdlF3vZutOq6/U3KcEV7OG",
      "include_colab_link": true
    },
    "kernelspec": {
      "name": "python3",
      "display_name": "Python 3"
    },
    "language_info": {
      "name": "python"
    }
  },
  "cells": [
    {
      "cell_type": "markdown",
      "metadata": {
        "id": "view-in-github",
        "colab_type": "text"
      },
      "source": [
        "<a href=\"https://colab.research.google.com/github/Pra-lab-maker/streamlit-deep-learning/blob/main/app.ipynb\" target=\"_parent\"><img src=\"https://colab.research.google.com/assets/colab-badge.svg\" alt=\"Open In Colab\"/></a>"
      ]
    },
    {
      "cell_type": "code",
      "metadata": {
        "id": "AVLlPMxT-VFN"
      },
      "source": [
        ""
      ],
      "execution_count": null,
      "outputs": []
    },
    {
      "cell_type": "code",
      "metadata": {
        "id": "UP1hy80qUK79",
        "colab": {
          "base_uri": "https://localhost:8080/"
        },
        "outputId": "a4fe5f89-f5fb-4c81-cf1f-5d428b41aa9c"
      },
      "source": [
        "import matplotlib.pyplot as plt\n",
        "import streamlit as st\n",
        "from PIL import Image\n",
        "from skimage.transform import resize\n",
        "import cv2\n",
        "import tensorflow as tf\n",
        "import matplotlib.pyplot as plt\n",
        "from tensorflow import keras\n",
        "import numpy as np\n",
        "from PIL import Image\n",
        "import cv2\n",
        "import numpy as np\n",
        "from keras.preprocessing import image\n",
        "@st.cache()\n",
        "def load_model():\n",
        "     model_new=keras.models.load_model('image-classifier-major-project.hdf5')\n",
        "     return model_new\n",
        "model_new=load_model()\n",
        "st.title('Image Classification using transfer learning between space Rocket ship, missiles and fighter jets')\n",
        "st.sidebar.text('Upload the image')\n",
        "image_file=st.sidebar.file_uploader('Select your image file')\n",
        "if image_file is not None:\n",
        "  file_bytes = np.asarray(bytearray(image_file.read()), dtype=np.uint8)\n",
        "  opencv_image = cv2.imdecode(file_bytes, 1)\n",
        "  opencv_image = cv2.cvtColor(opencv_image,cv2.COLOR_BGR2RGB)\n",
        "  img=Image.open(image_file)\n",
        "  st.sidebar.image(img,caption='Image uploaded')\n",
        "  if st.button('Predict'):\n",
        " \n",
        "     #x=image.load_img('/content/missile3.jpg',target_size=(224,224))\n",
        "     #plt.imshow(x)\n",
        "     st.set_option('deprecation.showPyplotGlobalUse', False)\n",
        "     x = cv2.resize(opencv_image,(224,224))\n",
        "     from keras.applications.vgg16 import preprocess_input,decode_predictions\n",
        "     x=np.expand_dims(x,axis=0)\n",
        "     x = preprocess_input(x)\n",
        "     y = model_new.predict(x)\n",
        "     y1=np.ndarray.flatten(y)\n",
        "     classes=['Space Rocket Ship','fighter jets','missiles']\n",
        "     percent=[]\n",
        "     for i in range(len(classes)):\n",
        "       for k in y1:\n",
        "         st.sidebar.write(classes[i],(y1[i]*100))\n",
        "         percent.append(y1[i])\n",
        "         break \n",
        "     plt.bar(classes,percent)\n",
        "     st.pyplot()"
      ],
      "execution_count": null,
      "outputs": [
        {
          "output_type": "stream",
          "text": [
            "Writing app.py\n"
          ],
          "name": "stdout"
        }
      ]
    },
    {
      "cell_type": "code",
      "metadata": {
        "id": "qKFTT1Ls-ctk"
      },
      "source": [
        ""
      ],
      "execution_count": null,
      "outputs": []
    },
    {
      "cell_type": "code",
      "metadata": {
        "id": "miidRwIK_pLF"
      },
      "source": [
        ""
      ],
      "execution_count": null,
      "outputs": []
    }
  ]
}